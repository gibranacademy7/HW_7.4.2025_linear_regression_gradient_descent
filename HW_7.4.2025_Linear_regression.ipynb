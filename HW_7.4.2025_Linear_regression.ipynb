{
 "cells": [
  {
   "cell_type": "markdown",
   "id": "7f110991-116d-4a54-9ec7-12e926d5846c",
   "metadata": {},
   "source": [
    "<div style=\"background-color: #e0f7e0; padding: 15px; border-radius: 5px;\">\n",
    "    <h1 style=\"color: Darkgreen;\">Home Work 7.4.2025 - Linear Regression</h1>\n",
    "</div>\n"
   ]
  },
  {
   "cell_type": "markdown",
   "id": "97726ab8-97d5-48ec-a2c4-15a262f905c6",
   "metadata": {},
   "source": [
    "<img src=\"https://cdn.mos.cms.futurecdn.net/2UMvPDp3snEwaGbRuCivjE-970-80.jpg\" alt=\"Italian Trulli\">\n"
   ]
  },
  {
   "cell_type": "markdown",
   "id": "32a2239d-651b-4d46-b57a-3763fac0f763",
   "metadata": {},
   "source": [
    "<div style=\"border: 2px solid Darkred; padding: 15px; background-color: #f9f9f9;\">\n",
    "    <h4 style=\"color: Darkred;\">\n",
    "        <strong>\n",
    "            Question 1 <br>\n",
    "             <br>\n",
    "        </strong>\n",
    "    </h4>\n",
    "    <h5 style=\"color: Tomato; margin-top: -10px;\">\n",
    "        A company claims that there is a relationship between the amount it invests in advertising and the growth in sales. <br>\n",
    "        The task is to build a linear regression model using gradient descent that describes the relationship between advertising investment and sales growth.<br>\n",
    "        <br>\n",
    "        Here are the data in Israeli Shekels (ILS):\n",
    "\n"
   ]
  },
  {
   "cell_type": "code",
   "execution_count": 3,
   "id": "e22e54f5-9f64-48d1-b6a6-516d7361ad61",
   "metadata": {},
   "outputs": [
    {
     "data": {
      "text/html": [
       "<div>\n",
       "<style scoped>\n",
       "    .dataframe tbody tr th:only-of-type {\n",
       "        vertical-align: middle;\n",
       "    }\n",
       "\n",
       "    .dataframe tbody tr th {\n",
       "        vertical-align: top;\n",
       "    }\n",
       "\n",
       "    .dataframe thead th {\n",
       "        text-align: right;\n",
       "    }\n",
       "</style>\n",
       "<table border=\"1\" class=\"dataframe\">\n",
       "  <thead>\n",
       "    <tr style=\"text-align: right;\">\n",
       "      <th></th>\n",
       "      <th>Advertising Investment (1000 ILS) (x1)</th>\n",
       "      <th>Sales Growth (1000 ILS) (y1)</th>\n",
       "    </tr>\n",
       "  </thead>\n",
       "  <tbody>\n",
       "    <tr>\n",
       "      <th>0</th>\n",
       "      <td>10</td>\n",
       "      <td>25</td>\n",
       "    </tr>\n",
       "    <tr>\n",
       "      <th>1</th>\n",
       "      <td>15</td>\n",
       "      <td>30</td>\n",
       "    </tr>\n",
       "    <tr>\n",
       "      <th>2</th>\n",
       "      <td>20</td>\n",
       "      <td>40</td>\n",
       "    </tr>\n",
       "    <tr>\n",
       "      <th>3</th>\n",
       "      <td>25</td>\n",
       "      <td>45</td>\n",
       "    </tr>\n",
       "    <tr>\n",
       "      <th>4</th>\n",
       "      <td>30</td>\n",
       "      <td>50</td>\n",
       "    </tr>\n",
       "    <tr>\n",
       "      <th>5</th>\n",
       "      <td>35</td>\n",
       "      <td>60</td>\n",
       "    </tr>\n",
       "    <tr>\n",
       "      <th>6</th>\n",
       "      <td>40</td>\n",
       "      <td>65</td>\n",
       "    </tr>\n",
       "    <tr>\n",
       "      <th>7</th>\n",
       "      <td>45</td>\n",
       "      <td>70</td>\n",
       "    </tr>\n",
       "    <tr>\n",
       "      <th>8</th>\n",
       "      <td>50</td>\n",
       "      <td>80</td>\n",
       "    </tr>\n",
       "  </tbody>\n",
       "</table>\n",
       "</div>"
      ],
      "text/plain": [
       "   Advertising Investment (1000 ILS) (x1)  Sales Growth (1000 ILS) (y1)\n",
       "0                                      10                            25\n",
       "1                                      15                            30\n",
       "2                                      20                            40\n",
       "3                                      25                            45\n",
       "4                                      30                            50\n",
       "5                                      35                            60\n",
       "6                                      40                            65\n",
       "7                                      45                            70\n",
       "8                                      50                            80"
      ]
     },
     "execution_count": 3,
     "metadata": {},
     "output_type": "execute_result"
    }
   ],
   "source": [
    "import pandas as pd\n",
    "\n",
    "# Define the data\n",
    "data = {\n",
    "    'Advertising Investment (1000 ILS) (x1)': [10, 15, 20, 25, 30, 35, 40, 45, 50],\n",
    "    'Sales Growth (1000 ILS) (y1)': [25, 30, 40, 45, 50, 60, 65, 70, 80]\n",
    "}\n",
    "\n",
    "# Create a DataFrame\n",
    "df = pd.DataFrame(data)\n",
    "\n",
    "# Display the DataFrame as a table\n",
    "df\n"
   ]
  },
  {
   "cell_type": "markdown",
   "id": "2b8458d7-cd4f-4853-92ad-4bb69465c711",
   "metadata": {},
   "source": [
    "<div style=\"border: 2px solid Darkred; padding: 15px; background-color: #f9f9f9;\">\n",
    "    <h4 style=\"color: Darkred;\">\n",
    "        <strong>\n",
    "            Question 1 a: <br>\n",
    "        </strong>\n",
    "    </h4>\n",
    "    <h5 style=\"color: Tomato; margin-top: -10px;\">\n",
    "       1. Build a linear regression model using Gradient Descent to fit the relationship between advertising investment and sales growth.\n",
    "\n",
    "\n"
   ]
  },
  {
   "cell_type": "code",
   "execution_count": null,
   "id": "d94dd254-620c-486b-bab6-3d59cc231e8d",
   "metadata": {},
   "outputs": [],
   "source": []
  },
  {
   "cell_type": "markdown",
   "id": "920194e2-2ce3-4684-a260-dbae521e6d63",
   "metadata": {},
   "source": [
    "<div style=\"border: 2px solid Darkred; padding: 15px; background-color: #f9f9f9;\">\n",
    "    <h4 style=\"color: Darkred;\">\n",
    "        <strong>\n",
    "            Question 1 b: <br>\n",
    "        </strong>\n",
    "    </h4>\n",
    "    <h5 style=\"color: Tomato; margin-top: -10px;\">\n",
    "\n",
    "2. 2. Predict the increase in sales if the company invests 60,000 ILS in advertising.\n",
    "\n"
   ]
  },
  {
   "cell_type": "code",
   "execution_count": null,
   "id": "06da7989-1cd5-41ff-affb-2dcfa6cb0fe3",
   "metadata": {},
   "outputs": [],
   "source": []
  },
  {
   "cell_type": "markdown",
   "id": "d08b4c2a-695a-4fda-836e-49b76dcee71b",
   "metadata": {},
   "source": [
    "<div style=\"border: 2px solid Darkred; padding: 15px; background-color: #f9f9f9;\">\n",
    "    <h4 style=\"color: Darkred;\">\n",
    "        <strong>\n",
    "            Question 1 c: <br>\n",
    "        </strong>\n",
    "    </h4>\n",
    "    <h5 style=\"color: Tomato; margin-top: -10px;\">\n",
    "       3. How much does the company need to invest in advertising to see a sales growth of 100,000 ILS?\n",
    "\n"
   ]
  },
  {
   "cell_type": "markdown",
   "id": "1a1d2f1a-0501-4988-923f-603d26a16337",
   "metadata": {},
   "source": [
    "<div style=\"border: 2px solid Darkred; padding: 15px; background-color: #f9f9f9;\">\n",
    "    <h4 style=\"color: Darkred;\">\n",
    "        <strong>\n",
    "            Question 1 d: <br>\n",
    "        </strong>\n",
    "    </h4>\n",
    "    <h5 style=\"color: Tomato; margin-top: -10px;\">\n",
    "4. Choose three different learning rates and compare the convergence speed of the algorithm.\n",
    "\n"
   ]
  },
  {
   "cell_type": "code",
   "execution_count": 1,
   "id": "2d8d2db0-23f2-4377-84e2-8f1915adcb1f",
   "metadata": {},
   "outputs": [
    {
     "name": "stderr",
     "output_type": "stream",
     "text": [
      "C:\\Users\\HP\\AppData\\Local\\Temp\\ipykernel_13216\\426541656.py:11: RuntimeWarning: overflow encountered in square\n",
      "  return np.mean((y_true - y_pred) ** 2)\n"
     ]
    },
    {
     "data": {
      "image/png": "[encoded data removed]",
      "text/plain": [
       "<Figure size 1000x600 with 1 Axes>"
      ]
     },
     "metadata": {},
     "output_type": "display_data"
    }
   ],
   "source": [
    "import numpy as np\n",
    "import matplotlib.pyplot as plt\n",
    "\n",
    "# === Data ===\n",
    "x = np.array([10, 15, 20, 25, 30, 35, 40, 45, 50])\n",
    "y = np.array([25, 30, 40, 45, 50, 60, 65, 70, 80])\n",
    "n = len(x)\n",
    "\n",
    "# === Mean Squared Error Function ===\n",
    "def compute_mse(y_true, y_pred):\n",
    "    return np.mean((y_true - y_pred) ** 2)\n",
    "\n",
    "# === Learning Rates to Compare ===\n",
    "learning_rates = [0.0001, 0.001, 0.01]\n",
    "results = {}\n",
    "\n",
    "# === Gradient Descent for Each Learning Rate ===\n",
    "for alpha in learning_rates:\n",
    "    m = 0\n",
    "    b = 0\n",
    "    mse_history = []\n",
    "\n",
    "    for _ in range(200):  # Track only first 200 iterations\n",
    "        y_pred = m * x + b\n",
    "        error = y_pred - y\n",
    "        dm = (2/n) * np.dot(error, x)\n",
    "        db = (2/n) * np.sum(error)\n",
    "        m -= alpha * dm\n",
    "        b -= alpha * db\n",
    "\n",
    "        mse = compute_mse(y, y_pred)\n",
    "        mse_history.append(mse)\n",
    "\n",
    "    results[alpha] = mse_history\n",
    "\n",
    "# === Plot the MSE History ===\n",
    "plt.figure(figsize=(10, 6))\n",
    "for alpha, mse_history in results.items():\n",
    "    plt.plot(mse_history, label=f'Learning Rate = {alpha}')\n",
    "\n",
    "plt.title('Convergence Speed for Different Learning Rates')\n",
    "plt.xlabel('Iteration')\n",
    "plt.ylabel('Mean Squared Error (MSE)')\n",
    "plt.legend()\n",
    "plt.grid(True)\n",
    "plt.tight_layout()\n",
    "plt.show()\n"
   ]
  },
  {
   "cell_type": "markdown",
   "id": "5b28f2bb-afde-405c-9e35-3b89fe9b1414",
   "metadata": {},
   "source": [
    "<div style=\"border: 2px solid Darkred; padding: 15px; background-color: #f9f9f9;\">\n",
    "    <h4 style=\"color: Darkred;\">\n",
    "        <strong>\n",
    "            Question 2 <br>\n",
    "        </strong>\n",
    "    </h4>\n",
    "    <h5 style=\"color: Tomato; margin-top: -10px;\">\n",
    "        \"In which cases would we prefer to use Gradient Descent instead of solving linear regression directly?\"\n"
   ]
  },
  {
   "cell_type": "markdown",
   "id": "12195f60-55cf-4ce9-9cc4-c54f6ffc165b",
   "metadata": {},
   "source": [
    "<div style=\"border: 2px solid Darkred; padding: 15px; background-color: #f9f9f9;\">\n",
    "    <h4 style=\"color: Darkred;\">\n",
    "        <strong>\n",
    "            Answer: <br>\n",
    "        </strong>\n",
    "    </h4>\n",
    "            <h4 style=\"color: Darkred;\">\n",
    "1. Large datasets (Big Data)<br>\n",
    "    <h5 style=\"color: Tomato; margin-top: -10px;\">\n",
    "When the number of features (columns) or data points (rows) is very large, calculating the analytical solution (using the normal equation) becomes computationally expensive due to matrix inversion.\n",
    "Gradient Descent can handle large datasets more efficiently by iteratively updating the weights.\n",
    "            <h4 style=\"color: Darkred;\">\n",
    "2. High-dimensional data (many features)<br>\n",
    "    <h5 style=\"color: Tomato; margin-top: -10px;\">\n",
    "The normal equation requires inverting a matrix of size equal to the number of features squared. When there are many features, this becomes slow or even infeasible.\n",
    "            <h4 style=\"color: Darkred;\">\n",
    "3. Streaming or online learning <br>\n",
    "    <h5 style=\"color: Tomato; margin-top: -10px;\">\n",
    "Gradient Descent can be adapted to work with one data point at a time (Stochastic Gradient Descent), making it ideal for real-time or streaming data.\n",
    "            <h4 style=\"color: Darkred;\">\n",
    "4. Flexibility with regularization<br>\n",
    "    <h5 style=\"color: Tomato; margin-top: -10px;\">\n",
    "Gradient Descent works well with regularized versions of regression (like Ridge or Lasso), where the direct solution may not be simple or efficient.\n",
    "            <h4 style=\"color: Darkred;\">\n",
    "5. Memory constraints <br>\n",
    "    <h5 style=\"color: Tomato; margin-top: -10px;\"\n",
    "If the dataset is too large to fit into memory, Gradient Descent can be used in batches (Mini-batch GD), which only requires loading part of the data at a time."
   ]
  },
  {
   "cell_type": "markdown",
   "id": "2e2ac3f7-0cb3-4679-9bc3-a585610352eb",
   "metadata": {},
   "source": [
    "<div style=\"border: 2px solid Darkred; padding: 15px; background-color: #f9f9f9;\">\n",
    "    <h4 style=\"color: Darkred;\">\n",
    "        <strong>\n",
    "            Question 3 <br>\n",
    "            3. Solve using multiple linear regression<br>\n",
    "        </strong>\n",
    "    </h4>\n",
    "    <h5 style=\"color: Tomato; margin-top: -10px;\">\n",
    "Exercise: A human resources company has collected data on the salaries of employees in the high-tech sector. They are interested in building a model that predicts salary based on several characteristics. Here is the data:\n",
    "\n"
   ]
  },
  {
   "cell_type": "markdown",
   "id": "f3d125eb-2acb-4bec-8c7f-7a2cb69bac72",
   "metadata": {},
   "source": [
    "<div style=\"border: 2px solid Darkred; padding: 15px; background-color: #f9f9f9;\">\n",
    "    <h4 style=\"color: Darkred;\">\n",
    "        <strong>\n",
    "           *** The data as list (table): <br>\n",
    "            "
   ]
  },
  {
   "cell_type": "code",
   "execution_count": 8,
   "id": "4a2cd4b7-8edf-4f4b-9102-56d11cfa6df9",
   "metadata": {
    "scrolled": true
   },
   "outputs": [
    {
     "name": "stdout",
     "output_type": "stream",
     "text": [
      "+----+------------------+------------------+----------------+---------------------+----------------------+\n",
      "|    |   Monthly Salary |   Managerial Exp |   Weekly Hours |   Education (years) |   Experience (years) |\n",
      "+====+==================+==================+================+=====================+======================+\n",
      "|  0 |               15 |                0 |             40 |                  15 |                    2 |\n",
      "+----+------------------+------------------+----------------+---------------------+----------------------+\n",
      "|  1 |               25 |                1 |             45 |                  16 |                    5 |\n",
      "+----+------------------+------------------+----------------+---------------------+----------------------+\n",
      "|  2 |               18 |                0 |             40 |                  16 |                    3 |\n",
      "+----+------------------+------------------+----------------+---------------------+----------------------+\n",
      "|  3 |               45 |                5 |             50 |                  18 |                   10 |\n",
      "+----+------------------+------------------+----------------+---------------------+----------------------+\n",
      "|  4 |               35 |                3 |             45 |                  17 |                    7 |\n",
      "+----+------------------+------------------+----------------+---------------------+----------------------+\n",
      "|  5 |               12 |                0 |             35 |                  14 |                    1 |\n",
      "+----+------------------+------------------+----------------+---------------------+----------------------+\n",
      "|  6 |               38 |                4 |             45 |                  16 |                    8 |\n",
      "+----+------------------+------------------+----------------+---------------------+----------------------+\n",
      "|  7 |               22 |                1 |             40 |                  15 |                    4 |\n",
      "+----+------------------+------------------+----------------+---------------------+----------------------+\n",
      "|  8 |               30 |                2 |             42 |                  16 |                    6 |\n",
      "+----+------------------+------------------+----------------+---------------------+----------------------+\n",
      "|  9 |               60 |                8 |             55 |                  19 |                   12 |\n",
      "+----+------------------+------------------+----------------+---------------------+----------------------+\n"
     ]
    }
   ],
   "source": [
    "import pandas as pd\n",
    "from tabulate import tabulate\n",
    "\n",
    "# Create the data as a list of dictionaries\n",
    "data = [\n",
    "    {\"Monthly Salary\": 15, \"Managerial Exp\": 0, \"Weekly Hours\": 40, \"Education (years)\": 15, \"Experience (years)\": 2},\n",
    "    {\"Monthly Salary\": 25, \"Managerial Exp\": 1, \"Weekly Hours\": 45, \"Education (years)\": 16, \"Experience (years)\": 5},\n",
    "    {\"Monthly Salary\": 18, \"Managerial Exp\": 0, \"Weekly Hours\": 40, \"Education (years)\": 16, \"Experience (years)\": 3},\n",
    "    {\"Monthly Salary\": 45, \"Managerial Exp\": 5, \"Weekly Hours\": 50, \"Education (years)\": 18, \"Experience (years)\": 10},\n",
    "    {\"Monthly Salary\": 35, \"Managerial Exp\": 3, \"Weekly Hours\": 45, \"Education (years)\": 17, \"Experience (years)\": 7},\n",
    "    {\"Monthly Salary\": 12, \"Managerial Exp\": 0, \"Weekly Hours\": 35, \"Education (years)\": 14, \"Experience (years)\": 1},\n",
    "    {\"Monthly Salary\": 38, \"Managerial Exp\": 4, \"Weekly Hours\": 45, \"Education (years)\": 16, \"Experience (years)\": 8},\n",
    "    {\"Monthly Salary\": 22, \"Managerial Exp\": 1, \"Weekly Hours\": 40, \"Education (years)\": 15, \"Experience (years)\": 4},\n",
    "    {\"Monthly Salary\": 30, \"Managerial Exp\": 2, \"Weekly Hours\": 42, \"Education (years)\": 16, \"Experience (years)\": 6},\n",
    "    {\"Monthly Salary\": 60, \"Managerial Exp\": 8, \"Weekly Hours\": 55, \"Education (years)\": 19, \"Experience (years)\": 12},\n",
    "]\n",
    "\n",
    "# Create DataFrame\n",
    "df = pd.DataFrame(data)\n",
    "\n",
    "# Display the table using tabulate (optional, for prettier output in terminal)\n",
    "print(tabulate(df, headers='keys', tablefmt='grid'))\n"
   ]
  },
  {
   "cell_type": "markdown",
   "id": "deb2b1e2-a667-4cbf-b41e-f5624922b2f8",
   "metadata": {},
   "source": [
    "<div style=\"border: 2px solid Darkred; padding: 15px; background-color: #f9f9f9;\">\n",
    "    <h4 style=\"color: Darkred;\">\n",
    "        <strong>\n",
    "            Question 3 a: <br>\n",
    "        </strong>\n",
    "    </h4>\n",
    "    <h5 style=\"color: Tomato; margin-top: -10px;\">\n",
    "Calculate the coefficients of a multiple linear regression model for this data.\n"
   ]
  },
  {
   "cell_type": "markdown",
   "id": "eee58002-e29c-40df-a9fc-19c15495d40d",
   "metadata": {},
   "source": [
    "\n",
    "<div style=\"border: 2px solid Darkred; padding: 15px; background-color: #f9f9f9;\">\n",
    "    <h4 style=\"color: Darkred;\">\n",
    "        <strong>\n",
    "            The qutation is: <br>\n",
    "        </strong>\n",
    "    </h4>\n",
    "    <h5 style=\"color: Tomato; margin-top: -10px;\">\n",
    "β = (Xᵀ·X)⁻¹ · Xᵀ·y<br>\n",
    "        <br>\n",
    "Where:<br>\n",
    "<br>\n",
    "X is the table of features (we add a column of 1s at the beginning to compute the intercept a)<br>\n",
    "y is the column of salaries<br>\n",
    "β is the resulting matrix of coefficients\n",
    "\n",
    "\n"
   ]
  },
  {
   "cell_type": "code",
   "execution_count": 9,
   "id": "2ae7b8bb-6878-48dd-9764-851a075815cd",
   "metadata": {},
   "outputs": [
    {
     "name": "stdout",
     "output_type": "stream",
     "text": [
      "Intercept: -3.140\n",
      "Managerial Exp: 2.649\n",
      "Weekly Hours: 0.051\n",
      "Education: 0.846\n",
      "Experience: 1.867\n"
     ]
    }
   ],
   "source": [
    "import numpy as np\n",
    "import pandas as pd\n",
    "\n",
    "# Step 1: Create the data\n",
    "data = {\n",
    "    \"Monthly Salary\": [15, 25, 18, 45, 35, 12, 38, 22, 30, 60],\n",
    "    \"Managerial Exp\": [0, 1, 0, 5, 3, 0, 4, 1, 2, 8],\n",
    "    \"Weekly Hours\": [40, 45, 40, 50, 45, 35, 45, 40, 42, 55],\n",
    "    \"Education\": [15, 16, 16, 18, 17, 14, 16, 15, 16, 19],\n",
    "    \"Experience\": [2, 5, 3, 10, 7, 1, 8, 4, 6, 12],\n",
    "}\n",
    "\n",
    "df = pd.DataFrame(data)\n",
    "\n",
    "# Step 2: Create X and y matrices\n",
    "# y is the column vector of salaries\n",
    "y = df[\"Monthly Salary\"].values.reshape(-1, 1)\n",
    "\n",
    "# X is the matrix of features + intercept column\n",
    "X_features = df[[\"Managerial Exp\", \"Weekly Hours\", \"Education\", \"Experience\"]].values\n",
    "ones = np.ones((X_features.shape[0], 1))  # intercept column\n",
    "X = np.hstack((ones, X_features))  # concatenate the intercept\n",
    "\n",
    "# Step 3: Apply the Normal Equation: beta = (Xᵀ·X)⁻¹ · Xᵀ·y\n",
    "X_transpose = X.T\n",
    "XtX = X_transpose @ X\n",
    "XtX_inv = np.linalg.inv(XtX)\n",
    "Xty = X_transpose @ y\n",
    "beta = XtX_inv @ Xty\n",
    "\n",
    "# Step 4: Print the coefficients\n",
    "coeff_names = [\"Intercept\", \"Managerial Exp\", \"Weekly Hours\", \"Education\", \"Experience\"]\n",
    "for name, value in zip(coeff_names, beta.flatten()):\n",
    "    print(f\"{name}: {value:.3f}\")\n"
   ]
  },
  {
   "cell_type": "markdown",
   "id": "a9676d85-5522-42a8-887d-7f3cea288483",
   "metadata": {},
   "source": [
    "<div style=\"border: 2px solid Darkred; padding: 15px; background-color: #f9f9f9;\">\n",
    "    <h4 style=\"color: Darkred;\">\n",
    "        <strong>\n",
    "            Question 3 b: <br>\n",
    "        </strong>\n",
    "    </h4>\n",
    "    <h5 style=\"color: Tomato; margin-top: -10px;\">\n",
    "Write the resulting prediction equation:"
   ]
  },
  {
   "cell_type": "markdown",
   "id": "8f6fe4b1-a870-48b5-9120-418e9c5d37ab",
   "metadata": {},
   "source": [
    "<div style=\"border: 2px solid Darkred; padding: 15px; background-color: #f9f9f9;\">\n",
    "    <h4 style=\"color: Darkred;\">\n",
    "        <strong>\n",
    "            Answer: <br>\n",
    "        </strong>\n",
    "    </h4>\n",
    "    <h5 style=\"color: Tomato; margin-top: -10px;\">\n",
    "Salary=−3.14+2.65×(Managerial Experience)+0.051×(Weekly Hours)+0.846×(Education)+1.87×(Experience)\n"
   ]
  },
  {
   "cell_type": "markdown",
   "id": "aae16b03-f809-4a07-b338-cd38e03be55d",
   "metadata": {},
   "source": [
    "<div style=\"border: 2px solid Darkred; padding: 15px; background-color: #f9f9f9;\">\n",
    "    <h4 style=\"color: Darkred;\">\n",
    "        <strong>\n",
    "            Question 3 c: <br>\n",
    "        </strong>\n",
    "    </h4>\n",
    "    <h5 style=\"color: Tomato; margin-top: -10px;\">\n",
    "Calculate the R² and the adjusted R² of the model:\n",
    "\n"
   ]
  },
  {
   "cell_type": "code",
   "execution_count": 11,
   "id": "2149fccb-ec90-4db7-997a-dc13c6f9fe70",
   "metadata": {},
   "outputs": [
    {
     "data": {
      "text/plain": [
       "(0.9977707788543115, 0.9959874019377608)"
      ]
     },
     "execution_count": 11,
     "metadata": {},
     "output_type": "execute_result"
    }
   ],
   "source": [
    "import numpy as np\n",
    "import statsmodels.api as sm\n",
    "\n",
    "# Data: Monthly Salary, Managerial Experience, Weekly Working Hours, Education, Work Experience\n",
    "data = np.array([\n",
    "    [15, 0, 40, 15, 2],\n",
    "    [25, 1, 45, 16, 5],\n",
    "    [18, 0, 40, 16, 3],\n",
    "    [45, 5, 50, 18, 10],\n",
    "    [35, 3, 45, 17, 7],\n",
    "    [12, 0, 35, 14, 1],\n",
    "    [38, 4, 45, 16, 8],\n",
    "    [22, 1, 40, 15, 4],\n",
    "    [30, 2, 42, 16, 6],\n",
    "    [60, 8, 55, 19, 12]\n",
    "])\n",
    "\n",
    "# Splitting the data\n",
    "X = data[:, 1:]  # Managerial Experience, Weekly Working Hours, Education, Work Experience\n",
    "y = data[:, 0]  # Monthly Salary\n",
    "\n",
    "# Adding a constant term for the intercept\n",
    "X = sm.add_constant(X)\n",
    "\n",
    "# Fitting the model\n",
    "model = sm.OLS(y, X).fit()\n",
    "\n",
    "# R-squared and Adjusted R-squared\n",
    "r_squared = model.rsquared\n",
    "adj_r_squared = model.rsquared_adj\n",
    "\n",
    "r_squared, adj_r_squared\n"
   ]
  },
  {
   "cell_type": "code",
   "execution_count": 12,
   "id": "9908d6b7-d401-4bcf-8587-0dc7cfae2427",
   "metadata": {},
   "outputs": [
    {
     "name": "stdout",
     "output_type": "stream",
     "text": [
      "R²: 0.9977707788543115\n",
      "Adjusted R²: 0.9959874019377608\n",
      "                            OLS Regression Results                            \n",
      "==============================================================================\n",
      "Dep. Variable:                      y   R-squared:                       0.998\n",
      "Model:                            OLS   Adj. R-squared:                  0.996\n",
      "Method:                 Least Squares   F-statistic:                     559.5\n",
      "Date:                Wed, 16 Apr 2025   Prob (F-statistic):           8.20e-07\n",
      "Time:                        16:23:15   Log-Likelihood:                -10.140\n",
      "No. Observations:                  10   AIC:                             30.28\n",
      "Df Residuals:                       5   BIC:                             31.79\n",
      "Df Model:                           4                                         \n",
      "Covariance Type:            nonrobust                                         \n",
      "==============================================================================\n",
      "                 coef    std err          t      P>|t|      [0.025      0.975]\n",
      "------------------------------------------------------------------------------\n",
      "const         -3.1399      8.161     -0.385      0.716     -24.118      17.838\n",
      "x1             2.6489      0.482      5.498      0.003       1.410       3.887\n",
      "x2             0.0515      0.250      0.206      0.845      -0.591       0.694\n",
      "x3             0.8459      0.770      1.099      0.322      -1.133       2.825\n",
      "x4             1.8673      0.458      4.075      0.010       0.689       3.045\n",
      "==============================================================================\n",
      "Omnibus:                        4.845   Durbin-Watson:                   1.873\n",
      "Prob(Omnibus):                  0.089   Jarque-Bera (JB):                1.654\n",
      "Skew:                          -0.943   Prob(JB):                        0.437\n",
      "Kurtosis:                       3.645   Cond. No.                     1.30e+03\n",
      "==============================================================================\n",
      "\n",
      "Notes:\n",
      "[1] Standard Errors assume that the covariance matrix of the errors is correctly specified.\n",
      "[2] The condition number is large, 1.3e+03. This might indicate that there are\n",
      "strong multicollinearity or other numerical problems.\n"
     ]
    },
    {
     "name": "stderr",
     "output_type": "stream",
     "text": [
      "C:\\Users\\HP\\anaconda3\\Lib\\site-packages\\scipy\\stats\\_axis_nan_policy.py:531: UserWarning: kurtosistest only valid for n>=20 ... continuing anyway, n=10\n",
      "  res = hypotest_fun_out(*samples, **kwds)\n"
     ]
    }
   ],
   "source": [
    "import numpy as np\n",
    "import statsmodels.api as sm\n",
    "\n",
    "# Step 1: Define the dataset\n",
    "# Columns: Salary, Managerial Experience, Weekly Hours, Education, Work Experience\n",
    "data = np.array([\n",
    "    [15, 0, 40, 15, 2],\n",
    "    [25, 1, 45, 16, 5],\n",
    "    [18, 0, 40, 16, 3],\n",
    "    [45, 5, 50, 18, 10],\n",
    "    [35, 3, 45, 17, 7],\n",
    "    [12, 0, 35, 14, 1],\n",
    "    [38, 4, 45, 16, 8],\n",
    "    [22, 1, 40, 15, 4],\n",
    "    [30, 2, 42, 16, 6],\n",
    "    [60, 8, 55, 19, 12]\n",
    "])\n",
    "\n",
    "# Step 2: Separate dependent and independent variables\n",
    "y = data[:, 0]       # Target variable: Monthly Salary\n",
    "X = data[:, 1:]      # Features: all other columns\n",
    "\n",
    "# Step 3: Add constant for the intercept term\n",
    "X = sm.add_constant(X)\n",
    "\n",
    "# Step 4: Build and fit the OLS regression model\n",
    "model = sm.OLS(y, X).fit()\n",
    "\n",
    "# Step 5: Print R-squared and Adjusted R-squared\n",
    "print(\"R²:\", model.rsquared)\n",
    "print(\"Adjusted R²:\", model.rsquared_adj)\n",
    "\n",
    "# Optional: Print full summary of the model\n",
    "print(model.summary())\n"
   ]
  }
 ],
 "metadata": {
  "kernelspec": {
   "display_name": "Python 3 (ipykernel)",
   "language": "python",
   "name": "python3"
  },
  "language_info": {
   "codemirror_mode": {
    "name": "ipython",
    "version": 3
   },
   "file_extension": ".py",
   "mimetype": "text/x-python",
   "name": "python",
   "nbconvert_exporter": "python",
   "pygments_lexer": "ipython3",
   "version": "3.12.7"
  }
 },
 "nbformat": 4,
 "nbformat_minor": 5
}
